{
 "cells": [
  {
   "cell_type": "code",
   "execution_count": 13,
   "id": "36661699",
   "metadata": {},
   "outputs": [],
   "source": [
    "import pandas as pd\n",
    "import numpy as np\n",
    "import os\n",
    "import yfinance as yf\n",
    "import datetime"
   ]
  },
  {
   "cell_type": "code",
   "execution_count": 14,
   "id": "d388a565",
   "metadata": {},
   "outputs": [],
   "source": [
    "tickers = [\"SPY\", \"TSLA\", \"AAPL\", \"MSFT\",\"NFLX\", \"AMZN\", \"TNX\", \"TYX\", \"FVX\", \"IRX\",\"HYG\", \"LQD\", \"GLD\", \"USO\", \"SLV\", \"DBA\", \"QQQ\", \"IWM\"]\n",
    "\n"
   ]
  },
  {
   "cell_type": "code",
   "execution_count": 15,
   "id": "c496691c",
   "metadata": {},
   "outputs": [
    {
     "name": "stdout",
     "output_type": "stream",
     "text": [
      "[*********************100%***********************]  1 of 1 completed\n",
      "[*********************100%***********************]  1 of 1 completed\n",
      "[*********************100%***********************]  1 of 1 completed\n",
      "[*********************100%***********************]  1 of 1 completed\n",
      "[*********************100%***********************]  1 of 1 completed\n",
      "[*********************100%***********************]  1 of 1 completed\n",
      "[*********************100%***********************]  1 of 1 completed\n",
      "[*********************100%***********************]  1 of 1 completed\n",
      "[*********************100%***********************]  1 of 1 completed\n",
      "\n",
      "1 Failed download:\n",
      "- FVX: No data found for this date range, symbol may be delisted\n",
      "[*********************100%***********************]  1 of 1 completed\n",
      "[*********************100%***********************]  1 of 1 completed\n",
      "[*********************100%***********************]  1 of 1 completed\n",
      "[*********************100%***********************]  1 of 1 completed\n",
      "[*********************100%***********************]  1 of 1 completed\n",
      "[*********************100%***********************]  1 of 1 completed\n",
      "[*********************100%***********************]  1 of 1 completed\n",
      "[*********************100%***********************]  1 of 1 completed\n",
      "[*********************100%***********************]  1 of 1 completed\n"
     ]
    }
   ],
   "source": [
    "for ticker in tickers:\n",
    "\n",
    "    # Set the start and end date\n",
    "    start_date = '1990-01-01'\n",
    "    end_date = '2024-01-01'\n",
    "\n",
    "    # Get the data\n",
    "    data = yf.download(ticker, start_date, end_date)\n",
    "\n",
    "    #Convert to dataframe\n",
    "    data_df = pd.DataFrame(data)\n",
    "\n",
    "    #Create Folder\n",
    "    mypath = \"Assets\"\n",
    "    if not os.path.isdir(mypath):\n",
    "        os.makedirs(mypath)\n",
    "\n",
    "    data_df.to_csv(f'{mypath}/{ticker}.csv')"
   ]
  },
  {
   "cell_type": "code",
   "execution_count": null,
   "id": "7741e89b",
   "metadata": {},
   "outputs": [],
   "source": [
    " # Set the start and end date\n",
    "    start_date = '1990-01-01'\n",
    "    end_date = '2024-01-01'\n",
    "\n",
    "    # Get the data\n",
    "    data = yf.download(ticker, start_date, end_date)\n",
    "\n",
    "    #Convert to dataframe\n",
    "    data_df = pd.DataFrame(data)\n",
    "\n",
    "    #Create Folder\n",
    "    mypath = \"Assets\"\n",
    "    if not os.path.isdir(mypath):\n",
    "        os.makedirs(mypath)"
   ]
  }
 ],
 "metadata": {
  "kernelspec": {
   "display_name": "PythonData",
   "language": "python",
   "name": "pythondata"
  },
  "language_info": {
   "codemirror_mode": {
    "name": "ipython",
    "version": 3
   },
   "file_extension": ".py",
   "mimetype": "text/x-python",
   "name": "python",
   "nbconvert_exporter": "python",
   "pygments_lexer": "ipython3",
   "version": "3.9.7"
  }
 },
 "nbformat": 4,
 "nbformat_minor": 5
}
